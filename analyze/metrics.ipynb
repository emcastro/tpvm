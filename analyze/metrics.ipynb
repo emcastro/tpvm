{
 "cells": [
  {
   "cell_type": "code",
   "execution_count": null,
   "metadata": {},
   "outputs": [],
   "source": [
    "import pandas as pd\n",
    "import numpy as np\n",
    "import matplotlib as mpl\n",
    "import matplotlib.pyplot as plt\n",
    "import re"
   ]
  },
  {
   "cell_type": "markdown",
   "metadata": {},
   "source": [
    "### Chargement des données"
   ]
  },
  {
   "cell_type": "code",
   "execution_count": null,
   "metadata": {},
   "outputs": [],
   "source": [
    "def load(name):\n",
    "    df = pd.read_json(name, lines=True).fillna(pd.NA).sort_values('time').reset_index(drop=True)\n",
    "    df = df.assign(time=(df.time - df.time[0]))\n",
    "    df = df.assign(step=df.time.diff())\n",
    "    df = df.set_index('time')\n",
    "    return df"
   ]
  },
  {
   "cell_type": "code",
   "execution_count": null,
   "metadata": {},
   "outputs": [],
   "source": [
    "delay_df = load('../metrics-delay.json')\n",
    "fast_df= load('../metrics-fast.json')"
   ]
  },
  {
   "cell_type": "markdown",
   "metadata": {},
   "source": [
    "## Répartition des espacements de dates"
   ]
  },
  {
   "cell_type": "code",
   "execution_count": null,
   "metadata": {},
   "outputs": [],
   "source": [
    "bins = np.arange(0 ,2e10, 3e8)"
   ]
  },
  {
   "cell_type": "code",
   "execution_count": null,
   "metadata": {},
   "outputs": [],
   "source": [
    "delay_df.step.hist(log=True, bins=bins)"
   ]
  },
  {
   "cell_type": "code",
   "execution_count": null,
   "metadata": {},
   "outputs": [],
   "source": [
    "fast_df.step.hist(log=True, bins=bins)"
   ]
  },
  {
   "cell_type": "markdown",
   "metadata": {},
   "source": [
    "## Répartition par type"
   ]
  },
  {
   "cell_type": "code",
   "execution_count": null,
   "metadata": {},
   "outputs": [],
   "source": [
    "[ fast_df[['name']].assign(count=1).groupby('name').count().plot.bar(log=True),\n",
    " delay_df[['name']].assign(count=1).groupby('name').count().plot.bar(log=True)]"
   ]
  },
  {
   "cell_type": "code",
   "execution_count": null,
   "metadata": {},
   "outputs": [],
   "source": [
    "fast_df[['name']].assign(count=1).groupby('name').count()"
   ]
  },
  {
   "cell_type": "code",
   "execution_count": null,
   "metadata": {},
   "outputs": [],
   "source": [
    "(delay_df[['name']].assign(count=1).groupby('name').count() - fast_df[['name']].assign(count=1).groupby('name').count()).rename(columns={'count': 'count_diff'})"
   ]
  },
  {
   "cell_type": "markdown",
   "metadata": {},
   "source": [
    "On a plus 25 appels directs de moins en mode `delay`. Ce sont eux qui peuvent empécher d'optimiser. \n",
    "\n",
    "Y a-t-il un lien entre les -25 **direct** et les 26 **callSite** ?"
   ]
  },
  {
   "cell_type": "markdown",
   "metadata": {},
   "source": [
    "# then : direct, fulfilled, pending\n",
    "* **pending** arrive en attente d'I/O, particulièrement si on les rends longues.\n",
    "* **fullfiled** arrive quand des résultats de I/O sont déjà arrivé. Optimisation potentielle, mais on voit bien que c'est négligeable face à **direct**"
   ]
  },
  {
   "cell_type": "markdown",
   "metadata": {},
   "source": [
    "## direct"
   ]
  },
  {
   "cell_type": "code",
   "execution_count": null,
   "metadata": {},
   "outputs": [],
   "source": [
    "fast_prim = fast_df[fast_df.name == 'direct']\n",
    "delay_prim = delay_df[delay_df.name == 'direct']"
   ]
  },
  {
   "cell_type": "code",
   "execution_count": null,
   "metadata": {},
   "outputs": [],
   "source": [
    "fast_prim.groupby('type').count()"
   ]
  },
  {
   "cell_type": "code",
   "execution_count": null,
   "metadata": {},
   "outputs": [],
   "source": [
    "delay_prim.groupby('type').count()"
   ]
  },
  {
   "cell_type": "markdown",
   "metadata": {},
   "source": [
    "> Beaucoup de primitives"
   ]
  },
  {
   "cell_type": "code",
   "execution_count": null,
   "metadata": {},
   "outputs": [],
   "source": [
    "fast_prim = fast_df[fast_df.name == 'direct']\n",
    "delay_prim = delay_df[delay_df.name == 'direct']"
   ]
  },
  {
   "cell_type": "markdown",
   "metadata": {},
   "source": [
    "# callSite"
   ]
  },
  {
   "cell_type": "code",
   "execution_count": null,
   "metadata": {},
   "outputs": [],
   "source": [
    "callSite_fast = fast_df[['name','apply']][fast_df.name == 'callSite'].groupby('apply').count().sort_values('name', ascending=False)\n",
    "callSite_fast"
   ]
  },
  {
   "cell_type": "code",
   "execution_count": null,
   "metadata": {},
   "outputs": [],
   "source": [
    "callSite_fast.plot()"
   ]
  },
  {
   "cell_type": "code",
   "execution_count": null,
   "metadata": {},
   "outputs": [],
   "source": [
    "callSite_fast_sum = callSite_fast.assign(count_sum=callSite_fast.cumsum()/10)\n",
    "callSite_fast_sum.plot()"
   ]
  },
  {
   "cell_type": "markdown",
   "metadata": {},
   "source": [
    "Il n'y a que la moitié des **callSite** à optimiser"
   ]
  },
  {
   "cell_type": "code",
   "execution_count": null,
   "metadata": {},
   "outputs": [],
   "source": [
    "callSite_fast_sum.query('count_sum < 4000')"
   ]
  },
  {
   "cell_type": "code",
   "execution_count": null,
   "metadata": {},
   "outputs": [],
   "source": []
  },
  {
   "cell_type": "markdown",
   "metadata": {},
   "source": [
    "# calledLambda"
   ]
  },
  {
   "cell_type": "code",
   "execution_count": null,
   "metadata": {},
   "outputs": [],
   "source": [
    "df = fast_df[['name','lambda']][fast_df.name == 'calledLambda'].groupby('lambda').count().sort_values('name', ascending=False)\n",
    "df"
   ]
  },
  {
   "cell_type": "code",
   "execution_count": null,
   "metadata": {},
   "outputs": [],
   "source": [
    "df_sum = df.assign(count_sum=df.cumsum()/5)\n",
    "df_sum.plot()"
   ]
  },
  {
   "cell_type": "markdown",
   "metadata": {},
   "source": [
    "# pushStack"
   ]
  },
  {
   "cell_type": "code",
   "execution_count": null,
   "metadata": {},
   "outputs": [],
   "source": [
    "df = fast_df[['name','expr']][fast_df.name == 'pushStack'].groupby('expr').count().sort_values('name', ascending=False)\n",
    "df"
   ]
  },
  {
   "cell_type": "code",
   "execution_count": null,
   "metadata": {},
   "outputs": [],
   "source": [
    "df_sum = df.assign(count_sum=df.cumsum()/30)\n",
    "df_sum.plot()"
   ]
  },
  {
   "cell_type": "markdown",
   "metadata": {},
   "source": [
    "# Conclusion\n",
    "On voit bien, comme prévu, que certains éléments sont utilisés plus que d'autres. On a les éléments pour un compilateur...\n",
    "Mais il faut être capable de prédire le type de **direct**."
   ]
  },
  {
   "cell_type": "markdown",
   "metadata": {},
   "source": [
    "# Éléments précédents un direct"
   ]
  },
  {
   "cell_type": "code",
   "execution_count": null,
   "metadata": {},
   "outputs": [],
   "source": [
    "direct_then_idx = fast_df.eval('name==\"direct\" and type!=\"then\"')"
   ]
  },
  {
   "cell_type": "code",
   "execution_count": null,
   "metadata": {},
   "outputs": [],
   "source": [
    "fast_df[(direct_then_idx.shift(periods=-1).fillna(False)) & (fast_df.name != \"direct\")].groupby('name').count()"
   ]
  },
  {
   "cell_type": "markdown",
   "metadata": {},
   "source": [
    "Un seul **popStack**"
   ]
  },
  {
   "cell_type": "code",
   "execution_count": null,
   "metadata": {},
   "outputs": [],
   "source": [
    "hot_spots = (\n",
    "    fast_df[(direct_then_idx.shift(periods=-1).fillna(False)) \n",
    "        & (fast_df.name == \"callSite\")].groupby('apply')\n",
    "    .count()\n",
    "    .sort_values('name', ascending=False)\n",
    ")[['name']]\n",
    "hot_spots"
   ]
  },
  {
   "cell_type": "code",
   "execution_count": null,
   "metadata": {},
   "outputs": [],
   "source": [
    "hot_spots.assign(sum=hot_spots.name.cumsum()/4).plot()"
   ]
  },
  {
   "cell_type": "markdown",
   "metadata": {},
   "source": [
    "Quand on regarde le code associé aux appels directs, on peut voir que ce sont des appels de primitives le plus souvant"
   ]
  },
  {
   "cell_type": "code",
   "execution_count": null,
   "metadata": {},
   "outputs": [],
   "source": [
    "PARSE_DEBUG_INFO_RE = re.compile(r\".*@(\\d+):(\\d+)-(?:(\\d+):)?(\\d+)\")\n",
    "\n",
    "with open('../tp/test.tp') as f:\n",
    "    ORIGINAL_TEXT = f.readlines()\n",
    "\n",
    "def find_orginal_text(s):\n",
    "    m = PARSE_DEBUG_INFO_RE.match(s)\n",
    "    start_line = int(m[1])\n",
    "    start_column = int(m[2])\n",
    "    end_line = int(m[3] or m[1])\n",
    "    end_column = int(m[4])\n",
    "    if start_line == end_line:\n",
    "        return ORIGINAL_TEXT[start_line-1][start_column-1:end_column-1]\n",
    "    else:\n",
    "        first = ORIGINAL_TEXT[start_line-1][start_column-1:]\n",
    "        last = ORIGINAL_TEXT[end_line-1][:end_column-1]\n",
    "        middle = ORIGINAL_TEXT[start_line:end_line-1]\n",
    "        return ''.join([first]+middle+[last])\n",
    "    \n",
    "    \n",
    "find_orginal_text('Apply@20:15-33')"
   ]
  },
  {
   "cell_type": "code",
   "execution_count": null,
   "metadata": {},
   "outputs": [],
   "source": [
    "hot_spots.assign(text=hot_spots.index.map(find_orginal_text))"
   ]
  },
  {
   "cell_type": "markdown",
   "metadata": {},
   "source": [
    "Les appels directs sont tous fait sur des constantes."
   ]
  },
  {
   "cell_type": "code",
   "execution_count": null,
   "metadata": {},
   "outputs": [],
   "source": [
    "fast_df[~ fast_df['apply'].isna()].name.unique()"
   ]
  },
  {
   "cell_type": "markdown",
   "metadata": {},
   "source": [
    "# Autres sites d'appels"
   ]
  },
  {
   "cell_type": "code",
   "execution_count": null,
   "metadata": {},
   "outputs": [],
   "source": [
    "cs = pd.DataFrame(set(fast_df['apply'].unique()) - set(hot_spots.index), columns=['apply']).dropna()\n",
    "cs = cs.assign(text=cs['apply'].map(find_orginal_text))\n",
    "cs"
   ]
  },
  {
   "cell_type": "code",
   "execution_count": null,
   "metadata": {},
   "outputs": [],
   "source": []
  }
 ],
 "metadata": {
  "kernelspec": {
   "display_name": "Python 3.8.2 64-bit ('python': venv)",
   "language": "python",
   "name": "python38264bitpythonvenv40c5a9fda88f4243a7f0d5207304d97e"
  },
  "language_info": {
   "codemirror_mode": {
    "name": "ipython",
    "version": 3
   },
   "file_extension": ".py",
   "mimetype": "text/x-python",
   "name": "python",
   "nbconvert_exporter": "python",
   "pygments_lexer": "ipython3",
   "version": "3.8.5"
  }
 },
 "nbformat": 4,
 "nbformat_minor": 4
}
